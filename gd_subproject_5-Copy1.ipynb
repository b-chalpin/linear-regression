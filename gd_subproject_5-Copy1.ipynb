{
 "cells": [
  {
   "cell_type": "code",
   "execution_count": 4,
   "metadata": {},
   "outputs": [],
   "source": [
    "import numpy as np\n",
    "import matplotlib.pyplot as plt\n",
    "from linear_regression import LinearRegression\n",
    "import pandas as pd\n",
    "import os\n",
    "import json\n",
    "import datetime\n",
    "import time\n",
    "from misc.utils import MyUtils"
   ]
  },
  {
   "cell_type": "code",
   "execution_count": 5,
   "metadata": {},
   "outputs": [],
   "source": [
    "# training config\n",
    "max_degree = 1\n",
    "epochs_list = [1000, 10_000, 100_000]\n",
    "eta_list = [0.01, 0.001, 0.0001]\n",
    "lam_list = [1] # TODO: implement this\n",
    "\n",
    "# dataset config\n",
    "normalize_neg1_pos1 = False\n",
    "normalize_zero_one = True\n",
    "num_samples = None # set to None for all samples"
   ]
  },
  {
   "cell_type": "markdown",
   "metadata": {},
   "source": [
    "### Pre-Process Our Dataset"
   ]
  },
  {
   "cell_type": "code",
   "execution_count": 6,
   "metadata": {},
   "outputs": [],
   "source": [
    "data_path = \"./prog4/code_linear_regression/houseprice\"\n",
    "\n",
    "X_train = pd.read_csv(os.path.join(data_path, \"x_train.csv\")).to_numpy()[:num_samples]\n",
    "y_train = pd.read_csv(os.path.join(data_path, \"y_train.csv\")).to_numpy()[:num_samples]\n",
    "X_test = pd.read_csv(os.path.join(data_path, \"x_test.csv\")).to_numpy()\n",
    "y_test = pd.read_csv(os.path.join(data_path, \"y_test.csv\")).to_numpy()\n",
    "\n",
    "if normalize_neg1_pos1:\n",
    "    X_train = MyUtils.normalize_neg1_pos1(X_train)\n",
    "    y_train = MyUtils.normalize_neg1_pos1(y_train)\n",
    "    X_test = MyUtils.normalize_neg1_pos1(X_test)\n",
    "    y_test = MyUtils.normalize_neg1_pos1(y_test)\n",
    "    \n",
    "elif normalize_zero_one:\n",
    "    X_train = MyUtils.normalize_0_1(X_train)\n",
    "    y_train = MyUtils.normalize_0_1(y_train)\n",
    "    X_test = MyUtils.normalize_0_1(X_test)\n",
    "    y_test = MyUtils.normalize_0_1(y_test)"
   ]
  },
  {
   "cell_type": "markdown",
   "metadata": {},
   "source": [
    "### Run Metric Calculations"
   ]
  },
  {
   "cell_type": "code",
   "execution_count": 8,
   "metadata": {},
   "outputs": [
    {
     "name": "stdout",
     "output_type": "stream",
     "text": [
      "degree 1\n",
      "\tepochs 1000\n",
      "\t\teta 0.01\n",
      "\t\t\tlam 1\n",
      "\t\t\tlam 1 done;\n",
      "\t\teta 0.01 done;\n",
      "\t\teta 0.001\n",
      "\t\t\tlam 1\n",
      "\t\t\tlam 1 done;\n",
      "\t\teta 0.001 done;\n",
      "\t\teta 0.0001\n",
      "\t\t\tlam 1\n",
      "\t\t\tlam 1 done;\n",
      "\t\teta 0.0001 done;\n",
      "\tepochs 1000 done;\n",
      "\tepochs 10000\n",
      "\t\teta 0.01\n",
      "\t\t\tlam 1\n",
      "\t\t\tlam 1 done;\n",
      "\t\teta 0.01 done;\n",
      "\t\teta 0.001\n",
      "\t\t\tlam 1\n",
      "\t\t\tlam 1 done;\n",
      "\t\teta 0.001 done;\n",
      "\t\teta 0.0001\n",
      "\t\t\tlam 1\n",
      "\t\t\tlam 1 done;\n",
      "\t\teta 0.0001 done;\n",
      "\tepochs 10000 done;\n",
      "\tepochs 100000\n",
      "\t\teta 0.01\n",
      "\t\t\tlam 1\n",
      "\t\t\tlam 1 done;\n",
      "\t\teta 0.01 done;\n",
      "\t\teta 0.001\n",
      "\t\t\tlam 1\n",
      "\t\t\tlam 1 done;\n",
      "\t\teta 0.001 done;\n",
      "\t\teta 0.0001\n",
      "\t\t\tlam 1\n",
      "\t\t\tlam 1 done;\n",
      "\t\teta 0.0001 done;\n",
      "\tepochs 100000 done;\n",
      "degree 1 done;\n",
      "\n",
      "number of training runs: 9\n"
     ]
    }
   ],
   "source": [
    "lr = LinearRegression()\n",
    "\n",
    "results = [] # results will hold dict of (degree, epochs, eta, lam, train_mse, test_mse, y_hat)\n",
    "\n",
    "for r in range(1, max_degree + 1):  # 1-based indexing\n",
    "    print(f\"degree {r}\")\n",
    "    \n",
    "    for epoch_val in epochs_list:\n",
    "        print(f\"\\tepochs {epoch_val}\")\n",
    "        \n",
    "        for eta_val in eta_list:\n",
    "            print(f\"\\t\\teta {eta_val}\")\n",
    "            \n",
    "            for lam_val in lam_list:\n",
    "                print(f\"\\t\\t\\tlam {lam_val}\")\n",
    "                \n",
    "                start = time.time()\n",
    "                lr.fit(X=X_train, y=y_train, CF=False, epochs=epoch_val, eta=eta_val, degree=r, lam=lam_val)\n",
    "                end = time.time()\n",
    "\n",
    "                train_mse = lr.error(X=X_train, y=y_train)\n",
    "                test_mse = lr.error(X=X_test, y=y_test)\n",
    "\n",
    "                y_hat = lr.predict(X=X_test)\n",
    "\n",
    "                result = {\n",
    "                    \"degree\": r,\n",
    "                    \"epochs\": epoch_val,\n",
    "                    \"eta\": eta_val,\n",
    "                    \"lam\": lam_val,\n",
    "                    \"train_mse\": train_mse,\n",
    "                    \"test_mse\": test_mse,\n",
    "                    \"y_hat\": list(y_hat.flatten()), # json doesnt like the nd-array\n",
    "                    \"train_time\": (end - start) # trainng time in seconds\n",
    "                } \n",
    "                \n",
    "                results.append(result)\n",
    "                \n",
    "                print(f\"\\t\\t\\tlam {lam_val} done;\")\n",
    "                \n",
    "            print(f\"\\t\\teta {eta_val} done;\")\n",
    "            \n",
    "        print(f\"\\tepochs {epoch_val} done;\")\n",
    "        \n",
    "    print(f\"degree {r} done;\")\n",
    "        \n",
    "assert len(results) == len(np.arange(max_degree)) * len(epochs_list) * len(eta_list) * len(lam_list) # debug\n",
    "print(f\"\\nnumber of training runs: {len(results)}\")\n",
    "\n",
    "# store output\n",
    "join_str = \"-\"\n",
    "gd_output_filename = f\"./output/{datetime.datetime.now()}_GD_degree-{max_degree}_epochs-{join_str.join([str(int) for int in epochs_list])}_eta-{join_str.join([str(int) for int in eta_list])}_lam-{join_str.join([str(int) for int in lam_list])}.json\".replace(\":\", \"-\")\n",
    "with open(gd_output_filename, \"w\") as file:\n",
    "    json.dump(results, file)"
   ]
  },
  {
   "cell_type": "markdown",
   "metadata": {},
   "source": [
    "### Plotting MSE vs. Different Epochs Values"
   ]
  },
  {
   "cell_type": "code",
   "execution_count": 10,
   "metadata": {},
   "outputs": [
    {
     "data": {
      "image/png": "[encoded data removed]",
      "text/plain": [
       "<Figure size 612x1332 with 2 Axes>"
      ]
     },
     "metadata": {
      "needs_background": "light"
     },
     "output_type": "display_data"
    }
   ],
   "source": [
    "# load our data\n",
    "with open(gd_output_filename, \"r\") as file:\n",
    "    json_str = file.read()\n",
    "gd_data = json.loads(json_str)\n",
    "\n",
    "# we have to fix eta and lam\n",
    "fixed_eta = eta_list[0]\n",
    "fixed_lam = lam_list[0]\n",
    "\n",
    "epochs_fig, epochs_axes = plt.subplots(2) # two subplots, one for train MSE, one for test MSE\n",
    "train_ax = epochs_axes[0]\n",
    "test_ax = epochs_axes[1]\n",
    "\n",
    "x_axis = np.arange(1, max_degree + 1)\n",
    "\n",
    "# x: degree, y: mse, plot one line for each epoch value (indicate in legend)\n",
    "for i, epoch_val in enumerate(epochs_list):\n",
    "    y_train_mse = []\n",
    "    y_test_mse = []\n",
    "    for r in x_axis: # x-axis is degree\n",
    "        y_val = list(filter(lambda x: \n",
    "                            x[\"degree\"] == r and \n",
    "                            x[\"epochs\"] == epoch_val and \n",
    "                            x[\"eta\"] == fixed_eta and \n",
    "                            x[\"lam\"] == fixed_lam, \n",
    "                            gd_data))\n",
    "        \n",
    "        y_train_mse.append(y_val[0][\"train_mse\"]) \n",
    "        y_test_mse.append(y_val[0][\"test_mse\"]) \n",
    "        \n",
    "    train_ax.plot(x_axis, y_train_mse, label=f\"{epoch_val} epochs\")\n",
    "    test_ax.plot(x_axis, y_test_mse, label=f\"{epoch_val} epochs\")\n",
    "    \n",
    "    train_ax.legend()\n",
    "    test_ax.legend()\n",
    "    \n",
    "    \n",
    "# figure config    \n",
    "epochs_fig.set_size_inches(8.5, 18.5)\n",
    "epochs_fig.text(.5, .05, f\"Fixed values: $\\eta$ = {fixed_eta}; $\\lambda$ = {fixed_lam}\", ha='center')\n",
    "\n",
    "# subplot config\n",
    "for ax in epochs_axes:\n",
    "#     ax.set_title(f\"Number of Epochs vs. Training MSE\")\n",
    "    ax.set_ylabel(\"Mean Squared Error (MSE)\")\n",
    "    ax.set_xlabel(\"Z-Transform Degree\")\n",
    "    ax.set_xticks(x_axis)\n",
    "    ax.set_xticklabels(x_axis, fontsize=12)  \n",
    "\n",
    "plt.show()"
   ]
  },
  {
   "cell_type": "code",
   "execution_count": 11,
   "metadata": {},
   "outputs": [
    {
     "ename": "NameError",
     "evalue": "name 'degree_x' is not defined",
     "output_type": "error",
     "traceback": [
      "\u001b[1;31m---------------------------------------------------------------------------\u001b[0m",
      "\u001b[1;31mNameError\u001b[0m                                 Traceback (most recent call last)",
      "\u001b[1;32m<ipython-input-11-00b9bc6b843f>\u001b[0m in \u001b[0;36m<module>\u001b[1;34m\u001b[0m\n\u001b[0;32m      1\u001b[0m \u001b[1;31m# plot to examine the true y vs. predicted y for each degree\u001b[0m\u001b[1;33m\u001b[0m\u001b[1;33m\u001b[0m\u001b[1;33m\u001b[0m\u001b[0m\n\u001b[1;32m----> 2\u001b[1;33m \u001b[0mprediction_fig\u001b[0m\u001b[1;33m,\u001b[0m \u001b[0mpred_axes\u001b[0m \u001b[1;33m=\u001b[0m \u001b[0mplt\u001b[0m\u001b[1;33m.\u001b[0m\u001b[0msubplots\u001b[0m\u001b[1;33m(\u001b[0m\u001b[0mlen\u001b[0m\u001b[1;33m(\u001b[0m\u001b[0mdegree_x\u001b[0m\u001b[1;33m)\u001b[0m\u001b[1;33m)\u001b[0m\u001b[1;33m\u001b[0m\u001b[1;33m\u001b[0m\u001b[0m\n\u001b[0m\u001b[0;32m      3\u001b[0m \u001b[1;33m\u001b[0m\u001b[0m\n\u001b[0;32m      4\u001b[0m \u001b[1;31m# figure config\u001b[0m\u001b[1;33m\u001b[0m\u001b[1;33m\u001b[0m\u001b[1;33m\u001b[0m\u001b[0m\n\u001b[0;32m      5\u001b[0m \u001b[0mprediction_fig\u001b[0m\u001b[1;33m.\u001b[0m\u001b[0mset_size_inches\u001b[0m\u001b[1;33m(\u001b[0m\u001b[1;36m18.5\u001b[0m\u001b[1;33m,\u001b[0m \u001b[1;36m10.5\u001b[0m\u001b[1;33m)\u001b[0m\u001b[1;33m\u001b[0m\u001b[1;33m\u001b[0m\u001b[0m\n",
      "\u001b[1;31mNameError\u001b[0m: name 'degree_x' is not defined"
     ]
    }
   ],
   "source": [
    "# plot to examine the true y vs. predicted y for each degree\n",
    "prediction_fig, pred_axes = plt.subplots(len(degree_x))\n",
    "\n",
    "# figure config\n",
    "prediction_fig.set_size_inches(18.5, 10.5)\n",
    "prediction_fig.text(.5, .05, f\"Epochs = {epochs}; $\\eta$ = {eta}; $\\lambda$ = {lam}\", ha='center')\n",
    "\n",
    "# x-vals for prediction_fig subplots\n",
    "prediction_fig_x = np.arange(y_test.shape[0])\n",
    "\n",
    "for i, (degree, prediction) in enumerate(zip(degree_x, prediction_y)):\n",
    "    ax_pred = pred_axes[i]\n",
    "\n",
    "    ax_pred.set_title(f\"Degree: {degree}\")\n",
    "    ax_pred.set_ylabel(\"House price (y)\")\n",
    "\n",
    "    # plot truth and prediction\n",
    "    ax_pred.plot(prediction_fig_x, y_test.flatten())\n",
    "    ax_pred.plot(prediction_fig_x, prediction.flatten())\n",
    "    ax_pred.legend([\"truth\", \"prediction\"])\n",
    "\n",
    "plt.show()"
   ]
  },
  {
   "cell_type": "markdown",
   "metadata": {},
   "source": [
    "### Plotting Degree vs. Error"
   ]
  },
  {
   "cell_type": "code",
   "execution_count": null,
   "metadata": {},
   "outputs": [],
   "source": [
    "error_fig, error_ax = plt.subplots(1)\n",
    "\n",
    "error_ax.plot(degree_x, mse_val_y)\n",
    "error_ax.plot(degree_x, mse_train_y)\n",
    "\n",
    "# figure config\n",
    "error_fig.set_size_inches(5.5, 10.5)\n",
    "error_fig.text(.5, .05, f\"Epochs = {epochs}; $\\eta$ = {eta}; $\\lambda$ = {lam}\", ha='center')\n",
    "\n",
    "\n",
    "# plot config\n",
    "error_ax.set_title(f\"Degree vs. Mean Squared Error (MSE)\")\n",
    "error_ax.set_ylabel(\"MSE\")\n",
    "error_ax.set_xlabel(\"Degree (r)\")\n",
    "error_ax.legend([\"validation error\", \"training error\"])\n",
    "error_ax.set_xticks(degree_x)\n",
    "error_ax.set_xticklabels(degree_x, fontsize=12)\n",
    "\n",
    "\n",
    "plt.show()"
   ]
  }
 ],
 "metadata": {
  "kernelspec": {
   "display_name": "Python 3",
   "language": "python",
   "name": "python3"
  },
  "language_info": {
   "codemirror_mode": {
    "name": "ipython",
    "version": 3
   },
   "file_extension": ".py",
   "mimetype": "text/x-python",
   "name": "python",
   "nbconvert_exporter": "python",
   "pygments_lexer": "ipython3",
   "version": "3.8.5"
  }
 },
 "nbformat": 4,
 "nbformat_minor": 4
}
