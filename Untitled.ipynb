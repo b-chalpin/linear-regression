{
 "cells": [
  {
   "cell_type": "code",
   "execution_count": 10,
   "id": "16f5c3b9-cfc3-4503-b2d8-ebb10efbcfee",
   "metadata": {},
   "outputs": [
    {
     "name": "stdout",
     "output_type": "stream",
     "text": [
      "h_r1(u)\n",
      "\tDot Product: 1.25\n",
      "\tHashed value: 1\n",
      "h_r2(u)\n",
      "\tDot Product: -1.75\n",
      "\tHashed value: -1\n",
      "h_r3(u)\n",
      "\tDot Product: 1.75\n",
      "\tHashed value: 1\n",
      "h_r1(v)\n",
      "\tDot Product: 0.95\n",
      "\tHashed value: 1\n",
      "h_r2(v)\n",
      "\tDot Product: -0.95\n",
      "\tHashed value: -1\n",
      "h_r3(v)\n",
      "\tDot Product: 1.3499999999999999\n",
      "\tHashed value: 1\n",
      "h_r1(w)\n",
      "\tDot Product: -0.3500000000000001\n",
      "\tHashed value: -1\n",
      "h_r2(w)\n",
      "\tDot Product: 1.65\n",
      "\tHashed value: 1\n",
      "h_r3(w)\n",
      "\tDot Product: 1.85\n",
      "\tHashed value: 1\n"
     ]
    }
   ],
   "source": [
    "import numpy as np\n",
    "import math\n",
    "\n",
    "# code to help with cscd430 hw1\n",
    "u = np.array([1, 0.25, 0, 0, 0.5, 0])\n",
    "v = np.array([0.75, 0, 0, 0.2, 0.4, 0])\n",
    "w = np.array([0, 0.1, 0.75, 0, 0, 1])\n",
    "\n",
    "r_1 = np.array([1, -1, 1, -1, 1, -1])\n",
    "r_2 = np.array([-1, -1, 1, 1, -1, 1])\n",
    "r_3 = np.array([1, 1, 1, 1, 1, 1])\n",
    "\n",
    "vect_names = [\"u\", \"v\", \"w\"]\n",
    "rand_vect_names = [\"r1\", \"r2\", \"r3\"]\n",
    "\n",
    "vects = [u, v, w]\n",
    "rand_vects = [r_1, r_2, r_3]\n",
    "\n",
    "def hash_r(r, u):\n",
    "    dot_product = np.dot(u, r)\n",
    "    print(f\"\\tDot Product: {dot_product}\")\n",
    "    \n",
    "    if dot_product >= 0:\n",
    "        return 1\n",
    "    else:\n",
    "        return -1\n",
    "    \n",
    "for i, _ in enumerate(vect_names):\n",
    "    for j, _ in enumerate(rand_vect_names):\n",
    "        print(f\"h_{rand_vect_names[j]}({vect_names[i]})\")\n",
    "        hash_val = hash_r(rand_vects[j], vects[i])\n",
    "        print(f\"\\tHashed value: {hash_val}\")\n",
    "    "
   ]
  },
  {
   "cell_type": "code",
   "execution_count": 19,
   "id": "cf4109c2-819f-415f-b840-74d270703df8",
   "metadata": {},
   "outputs": [
    {
     "name": "stdout",
     "output_type": "stream",
     "text": [
      "TRUE SIMILARITY\n",
      "u-u\n",
      "1.0\n",
      "\tarccos(1.3125 /  1.14564392373896 * 1.14564392373896) = 0.0\n",
      "\tcosine similarity = 1.0\n",
      "u-v\n",
      "0.9496291235462798\n",
      "\tarccos(0.95 /  1.14564392373896 * 0.873212459828649) = 0.31874604644882265\n",
      "\tcosine similarity = 0.898539982233342\n",
      "u-w\n",
      "0.01740183416297251\n",
      "\tarccos(0.025 /  1.14564392373896 * 1.2539936203984452) = 1.5533936142305336\n",
      "\tcosine similarity = 0.5055394554556516\n",
      "v-u\n",
      "0.9496291235462798\n",
      "\tarccos(0.95 /  0.873212459828649 * 1.14564392373896) = 0.31874604644882265\n",
      "\tcosine similarity = 0.898539982233342\n",
      "v-v\n",
      "1.0000000000000002\n"
     ]
    },
    {
     "ename": "ValueError",
     "evalue": "math domain error",
     "output_type": "error",
     "traceback": [
      "\u001b[1;31m---------------------------------------------------------------------------\u001b[0m",
      "\u001b[1;31mValueError\u001b[0m                                Traceback (most recent call last)",
      "\u001b[1;32m~\\AppData\\Local\\Temp/ipykernel_4736/3837230740.py\u001b[0m in \u001b[0;36m<module>\u001b[1;34m\u001b[0m\n\u001b[0;32m     14\u001b[0m     \u001b[1;32mfor\u001b[0m \u001b[0mj\u001b[0m\u001b[1;33m,\u001b[0m \u001b[0m_\u001b[0m \u001b[1;32min\u001b[0m \u001b[0menumerate\u001b[0m\u001b[1;33m(\u001b[0m\u001b[0mvect_names\u001b[0m\u001b[1;33m)\u001b[0m\u001b[1;33m:\u001b[0m\u001b[1;33m\u001b[0m\u001b[1;33m\u001b[0m\u001b[0m\n\u001b[0;32m     15\u001b[0m         \u001b[0mprint\u001b[0m\u001b[1;33m(\u001b[0m\u001b[1;34mf\"{vect_names[i]}-{vect_names[j]}\"\u001b[0m\u001b[1;33m)\u001b[0m\u001b[1;33m\u001b[0m\u001b[1;33m\u001b[0m\u001b[0m\n\u001b[1;32m---> 16\u001b[1;33m         \u001b[0mcos_sim_val\u001b[0m \u001b[1;33m=\u001b[0m \u001b[0mcos_sim\u001b[0m\u001b[1;33m(\u001b[0m\u001b[0mvects\u001b[0m\u001b[1;33m[\u001b[0m\u001b[0mi\u001b[0m\u001b[1;33m]\u001b[0m\u001b[1;33m,\u001b[0m \u001b[0mvects\u001b[0m\u001b[1;33m[\u001b[0m\u001b[0mj\u001b[0m\u001b[1;33m]\u001b[0m\u001b[1;33m)\u001b[0m\u001b[1;33m\u001b[0m\u001b[1;33m\u001b[0m\u001b[0m\n\u001b[0m\u001b[0;32m     17\u001b[0m         \u001b[0mprint\u001b[0m\u001b[1;33m(\u001b[0m\u001b[1;34mf\"\\tcosine similarity = {cos_sim_val}\"\u001b[0m\u001b[1;33m)\u001b[0m\u001b[1;33m\u001b[0m\u001b[1;33m\u001b[0m\u001b[0m\n\u001b[0;32m     18\u001b[0m \u001b[1;33m\u001b[0m\u001b[0m\n",
      "\u001b[1;32m~\\AppData\\Local\\Temp/ipykernel_4736/3837230740.py\u001b[0m in \u001b[0;36mcos_sim\u001b[1;34m(a, b)\u001b[0m\n\u001b[0;32m      5\u001b[0m     \u001b[0mtest\u001b[0m \u001b[1;33m=\u001b[0m \u001b[0mnp\u001b[0m\u001b[1;33m.\u001b[0m\u001b[0mdot\u001b[0m\u001b[1;33m(\u001b[0m\u001b[0ma\u001b[0m\u001b[1;33m,\u001b[0m \u001b[0mb\u001b[0m\u001b[1;33m)\u001b[0m \u001b[1;33m/\u001b[0m \u001b[1;33m(\u001b[0m\u001b[0mnp\u001b[0m\u001b[1;33m.\u001b[0m\u001b[0mlinalg\u001b[0m\u001b[1;33m.\u001b[0m\u001b[0mnorm\u001b[0m\u001b[1;33m(\u001b[0m\u001b[0ma\u001b[0m\u001b[1;33m)\u001b[0m \u001b[1;33m*\u001b[0m \u001b[0mnp\u001b[0m\u001b[1;33m.\u001b[0m\u001b[0mlinalg\u001b[0m\u001b[1;33m.\u001b[0m\u001b[0mnorm\u001b[0m\u001b[1;33m(\u001b[0m\u001b[0mb\u001b[0m\u001b[1;33m)\u001b[0m\u001b[1;33m)\u001b[0m\u001b[1;33m\u001b[0m\u001b[1;33m\u001b[0m\u001b[0m\n\u001b[0;32m      6\u001b[0m     \u001b[0mprint\u001b[0m\u001b[1;33m(\u001b[0m\u001b[0mtest\u001b[0m\u001b[1;33m)\u001b[0m\u001b[1;33m\u001b[0m\u001b[1;33m\u001b[0m\u001b[0m\n\u001b[1;32m----> 7\u001b[1;33m     \u001b[0mcos_dist\u001b[0m \u001b[1;33m=\u001b[0m \u001b[0mmath\u001b[0m\u001b[1;33m.\u001b[0m\u001b[0macos\u001b[0m\u001b[1;33m(\u001b[0m\u001b[0mnp\u001b[0m\u001b[1;33m.\u001b[0m\u001b[0mdot\u001b[0m\u001b[1;33m(\u001b[0m\u001b[0ma\u001b[0m\u001b[1;33m,\u001b[0m \u001b[0mb\u001b[0m\u001b[1;33m)\u001b[0m \u001b[1;33m/\u001b[0m \u001b[1;33m(\u001b[0m\u001b[0mnp\u001b[0m\u001b[1;33m.\u001b[0m\u001b[0mlinalg\u001b[0m\u001b[1;33m.\u001b[0m\u001b[0mnorm\u001b[0m\u001b[1;33m(\u001b[0m\u001b[0ma\u001b[0m\u001b[1;33m)\u001b[0m \u001b[1;33m*\u001b[0m \u001b[0mnp\u001b[0m\u001b[1;33m.\u001b[0m\u001b[0mlinalg\u001b[0m\u001b[1;33m.\u001b[0m\u001b[0mnorm\u001b[0m\u001b[1;33m(\u001b[0m\u001b[0mb\u001b[0m\u001b[1;33m)\u001b[0m\u001b[1;33m)\u001b[0m\u001b[1;33m)\u001b[0m\u001b[1;33m\u001b[0m\u001b[1;33m\u001b[0m\u001b[0m\n\u001b[0m\u001b[0;32m      8\u001b[0m     \u001b[0mprint\u001b[0m\u001b[1;33m(\u001b[0m\u001b[1;34mf\"\\tarccos({np.dot(a, b)} /  {np.linalg.norm(a)} * {np.linalg.norm(b)}) = {cos_dist}\"\u001b[0m\u001b[1;33m)\u001b[0m\u001b[1;33m\u001b[0m\u001b[1;33m\u001b[0m\u001b[0m\n\u001b[0;32m      9\u001b[0m     \u001b[1;32mreturn\u001b[0m \u001b[1;36m1\u001b[0m \u001b[1;33m-\u001b[0m \u001b[0mcos_dist\u001b[0m \u001b[1;33m/\u001b[0m \u001b[0mmath\u001b[0m\u001b[1;33m.\u001b[0m\u001b[0mpi\u001b[0m\u001b[1;33m\u001b[0m\u001b[1;33m\u001b[0m\u001b[0m\n",
      "\u001b[1;31mValueError\u001b[0m: math domain error"
     ]
    }
   ],
   "source": [
    "sketches = [np.array([1, -1, 1]), np.array([1, -1, 1]), np.array([-1, 1, 1])]\n",
    "sketch_names = [\"sketch_u\", \"sketch_v\", \"sketch_w\"]\n",
    "\n",
    "def cos_sim(a, b):\n",
    "    test = np.dot(a, b) / (np.linalg.norm(a) * np.linalg.norm(b))\n",
    "    print(test)\n",
    "    cos_dist = math.acos(np.dot(a, b) / (np.linalg.norm(a) * np.linalg.norm(b)))\n",
    "    print(f\"\\tarccos({np.dot(a, b)} /  {np.linalg.norm(a)} * {np.linalg.norm(b)}) = {cos_dist}\")\n",
    "    return 1 - cos_dist / math.pi\n",
    "\n",
    "# true sim\n",
    "print(\"TRUE SIMILARITY\")\n",
    "for i, _ in enumerate(vect_names):\n",
    "    for j, _ in enumerate(vect_names):\n",
    "        print(f\"{vect_names[i]}-{vect_names[j]}\")\n",
    "        cos_sim_val = cos_sim(vects[i], vects[j])\n",
    "        print(f\"\\tcosine similarity = {cos_sim_val}\")\n",
    "\n",
    "print(\"SKETCH SIMILARITY\\n\")\n",
    "for i, _ in enumerate(sketch_names):\n",
    "    for j, _ in enumerate(sketch_names):\n",
    "        print(f\"{sketch_names[i]}-{sketch_names[j]}\")\n",
    "        cos_sim_val = cos_sim(sketches[i], sketches[j])\n",
    "        print(f\"\\tcosine similarity = {cos_sim_val}\")"
   ]
  }
 ],
 "metadata": {
  "kernelspec": {
   "display_name": "Python 3 (ipykernel)",
   "language": "python",
   "name": "python3"
  },
  "language_info": {
   "codemirror_mode": {
    "name": "ipython",
    "version": 3
   },
   "file_extension": ".py",
   "mimetype": "text/x-python",
   "name": "python",
   "nbconvert_exporter": "python",
   "pygments_lexer": "ipython3",
   "version": "3.9.7"
  }
 },
 "nbformat": 4,
 "nbformat_minor": 5
}
