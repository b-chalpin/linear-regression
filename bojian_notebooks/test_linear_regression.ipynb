{
 "cells": [
  {
   "cell_type": "markdown",
   "metadata": {},
   "source": [
    "# The implementation of linear regression. \n",
    "## Author: Bojian Xu, bojianxu@ewu.edu\n",
    "\n",
    "It supports the following: \n",
    "\n",
    "- multiple features, i.e., $d\\geq 1$\n",
    "- regularization: $E(w) = \\frac{1}{N}\\lVert Xw-y\\rVert^2 + \\frac{\\lambda}{N} \\lVert w\\rVert^2$\n",
    "- using the in-form calculation\n",
    "- using the gradient descent\n"
   ]
  },
  {
   "cell_type": "code",
   "execution_count": 2,
   "metadata": {},
   "outputs": [],
   "source": [
    "import numpy as np\n",
    "from numpy.random import rand as rand\n",
    "from numpy.random import seed as seed\n",
    "import matplotlib.pyplot as plt\n",
    "from IPython.display import clear_output\n",
    "\n",
    "import linear_regression as LR\n",
    "import sys\n",
    "\n",
    "sys.path.append('..')\n",
    "from misc.utils import MyUtils"
   ]
  },
  {
   "cell_type": "code",
   "execution_count": 3,
   "metadata": {},
   "outputs": [],
   "source": [
    "def display_w_2D(w, x_range = (0.0, 1.0), y_range = (0,0,1.0), color = 'red', degree = 1):\n",
    "    ''' only support: degree <= 4 for demo purpose\n",
    "        Don't have time to code out the generic form for any degree\n",
    "    '''\n",
    "    xrange = np.arange(x_range[0], x_range[1], delta)\n",
    "    yrange = np.arange(y_range[0], y_range[1], delta)\n",
    "    x, y = np.meshgrid(xrange,yrange)\n",
    "    \n",
    "    if degree == 1:\n",
    "        F = w[0] + w[1] * x - y\n",
    "    elif degree == 2:\n",
    "        F = w[0] + w[1] * x + w[2] * np.power(x,2) - y\n",
    "    elif degree == 3:\n",
    "        F = w[0] + w[1] * x + w[2] * np.power(x,2) + w[3] * np.power(x,3) - y\n",
    "    elif degree == 4:\n",
    "        F = w[0] + w[1] * x + w[2] * np.power(x,2) + w[3] * np.power(x,3) + w[4] * np.power(x,4) - y\n",
    "    else:\n",
    "        print('Z space degree is too high. Not supported now\\n')\n",
    "        quit()\n",
    "\n",
    "    plt.contour(x, y, (F), [0], colors = color)"
   ]
  },
  {
   "cell_type": "code",
   "execution_count": 4,
   "metadata": {},
   "outputs": [],
   "source": [
    "seed()"
   ]
  },
  {
   "cell_type": "code",
   "execution_count": 5,
   "metadata": {},
   "outputs": [],
   "source": [
    "n = 100"
   ]
  },
  {
   "cell_type": "code",
   "execution_count": 6,
   "metadata": {},
   "outputs": [],
   "source": [
    "r = 2"
   ]
  },
  {
   "cell_type": "code",
   "execution_count": 7,
   "metadata": {},
   "outputs": [],
   "source": [
    "delta = 0.01"
   ]
  },
  {
   "cell_type": "code",
   "execution_count": 8,
   "metadata": {},
   "outputs": [],
   "source": [
    "d = 1"
   ]
  },
  {
   "cell_type": "code",
   "execution_count": 9,
   "metadata": {},
   "outputs": [],
   "source": [
    "x = np.linspace(start=0.01, stop=1.99, num=n)\n",
    "y = np.power(x,r) * 2 + np.power(x,r)  + np.random.normal(loc=0.0, scale=0.5, size=n)\n",
    "#print(x)\n",
    "#print(y)"
   ]
  },
  {
   "cell_type": "code",
   "execution_count": 10,
   "metadata": {},
   "outputs": [
    {
     "data": {
      "image/png": "[encoded data removed]",
      "text/plain": [
       "<Figure size 432x288 with 1 Axes>"
      ]
     },
     "metadata": {
      "needs_background": "light"
     },
     "output_type": "display_data"
    }
   ],
   "source": [
    "# display the data samples\n",
    "plt.scatter(x, y, marker='.')\n",
    "plt.xlabel('x')\n",
    "plt.ylabel('y')\n",
    "plt.show()"
   ]
  },
  {
   "cell_type": "code",
   "execution_count": 14,
   "metadata": {},
   "outputs": [
    {
     "name": "stdout",
     "output_type": "stream",
     "text": [
      "Learned w:\n",
      " None\n"
     ]
    }
   ],
   "source": [
    "z_r = r+2\n",
    "\n",
    "lr = LR.LinearRegression()\n",
    "\n",
    "\n",
    "lr.fit(x.reshape(-1,1), y.reshape(-1,1), CF = False, lam = 0.1, eta = 0.001, epochs = 10000, degree = z_r)\n",
    "\n",
    "\n",
    "print('Learned w:\\n', lr.w)\n",
    "#print('MSE:\\n', lr.MSE)\n",
    "\n"
   ]
  },
  {
   "cell_type": "code",
   "execution_count": 82,
   "metadata": {},
   "outputs": [
    {
     "data": {
      "image/png": "[encoded data removed]",
      "text/plain": [
       "<Figure size 432x288 with 1 Axes>"
      ]
     },
     "metadata": {
      "needs_background": "light"
     },
     "output_type": "display_data"
    }
   ],
   "source": [
    "plt.scatter(x, y, marker='.')\n",
    "display_w_2D(lr.w, x_range = (min(x),max(x)), y_range = (min(y),max(y)), color = 'red', degree = z_r)\n",
    "plt.xlabel('x')\n",
    "plt.ylabel('y')\n",
    "plt.show()"
   ]
  },
  {
   "cell_type": "code",
   "execution_count": 83,
   "metadata": {},
   "outputs": [
    {
     "data": {
      "image/png": "[encoded data removed]",
      "text/plain": [
       "<Figure size 432x288 with 1 Axes>"
      ]
     },
     "metadata": {
      "needs_background": "light"
     },
     "output_type": "display_data"
    }
   ],
   "source": [
    "plt.scatter(np.arange(len(lr.MSE)-1000), lr.MSE[1000:], marker='.')\n",
    "plt.xlabel('epochs')\n",
    "plt.ylabel('MSE')\n",
    "plt.show()"
   ]
  }
 ],
 "metadata": {
  "kernelspec": {
   "display_name": "Python 3",
   "language": "python",
   "name": "python3"
  },
  "language_info": {
   "codemirror_mode": {
    "name": "ipython",
    "version": 3
   },
   "file_extension": ".py",
   "mimetype": "text/x-python",
   "name": "python",
   "nbconvert_exporter": "python",
   "pygments_lexer": "ipython3",
   "version": "3.8.5"
  }
 },
 "nbformat": 4,
 "nbformat_minor": 5
}
